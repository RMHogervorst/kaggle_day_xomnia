{
 "cells": [
  {
   "cell_type": "markdown",
   "metadata": {},
   "source": [
    "## This  is a notebook"
   ]
  },
  {
   "cell_type": "code",
   "execution_count": 1,
   "metadata": {
    "collapsed": true
   },
   "outputs": [],
   "source": [
    "import pandas as pd\n",
    "import numpy as np\n",
    "from sklearn.pipeline import Pipeline\n",
    "from sklearn.linear_model import LinearRegression\n",
    "from sklearn.neighbors import KNeighborsRegressor\n",
    "from sklearn import neighbors\n",
    "from sklearn.preprocessing import Normalizer\n",
    "from sklearn.preprocessing import Imputer\n",
    "from sklearn.metrics import mean_absolute_error"
   ]
  },
  {
   "cell_type": "code",
   "execution_count": 2,
   "metadata": {},
   "outputs": [
    {
     "name": "stderr",
     "output_type": "stream",
     "text": [
      "C:\\Users\\x003752\\AppData\\Local\\Continuum\\Anaconda3\\lib\\site-packages\\IPython\\core\\interactiveshell.py:2698: DtypeWarning: Columns (22,32,34,49,55) have mixed types. Specify dtype option on import or set low_memory=False.\n",
      "  interactivity=interactivity, compiler=compiler, result=result)\n"
     ]
    }
   ],
   "source": [
    "properties = pd.read_csv('../data/properties_2016.csv')\n",
    "train_data = pd.read_csv('../data/train_2016_v2.csv')\n",
    "template_submission = pd.read_csv('../data/sample_submission.csv')"
   ]
  },
  {
   "cell_type": "markdown",
   "metadata": {},
   "source": [
    "## Preprocessing\n",
    "\n",
    "- merge data frames\n",
    "- remove crappy features (missing > .75)\n",
    "- make sure the types make sense\n"
   ]
  },
  {
   "cell_type": "markdown",
   "metadata": {},
   "source": [
    "we have data of houses that have been sold, those have a logerror. This logerror is our train_y. Split data set on logerror / no logerror. The other is test?\n",
    "\n"
   ]
  },
  {
   "cell_type": "code",
   "execution_count": 3,
   "metadata": {
    "collapsed": true
   },
   "outputs": [],
   "source": [
    "merged_df = pd.merge(train_data, properties,on='parcelid')"
   ]
  },
  {
   "cell_type": "code",
   "execution_count": 4,
   "metadata": {
    "collapsed": true
   },
   "outputs": [],
   "source": [
    "temp_df = merged_df[['bathroomcnt', 'bedroomcnt', 'longitude', 'latitude','logerror']].dropna()\n",
    "properties_filtered = properties[['bathroomcnt', 'bedroomcnt', 'longitude', 'latitude']]\n",
    "properties_filtered = properties_filtered.fillna(properties_filtered.mean())\n",
    "x_train = temp_df[['bathroomcnt', 'bedroomcnt', 'longitude', 'latitude']]\n",
    "y_train = temp_df.logerror\n",
    "x_submission = properties_filtered"
   ]
  },
  {
   "cell_type": "code",
   "execution_count": 5,
   "metadata": {},
   "outputs": [],
   "source": [
    "#impute grouped on unitcnt, buildingqualitytypeid, buildingclasstypeid, architecturalstyletypeid"
   ]
  },
  {
   "cell_type": "markdown",
   "metadata": {},
   "source": [
    "## Feature engineering"
   ]
  },
  {
   "cell_type": "code",
   "execution_count": 6,
   "metadata": {
    "collapsed": true
   },
   "outputs": [],
   "source": [
    "feature_engineering = Imputer(strategy=\"median\", axis = 0) \n"
   ]
  },
  {
   "cell_type": "markdown",
   "metadata": {},
   "source": [
    "## Model"
   ]
  },
  {
   "cell_type": "code",
   "execution_count": 7,
   "metadata": {
    "collapsed": true
   },
   "outputs": [],
   "source": [
    "## knn en lasso ?\n",
    "neigbors = KNeighborsRegressor(n_neighbors=5, weights= 'distance',n_jobs=-1)\n",
    "\n"
   ]
  },
  {
   "cell_type": "markdown",
   "metadata": {},
   "source": [
    "## Pipeline"
   ]
  },
  {
   "cell_type": "code",
   "execution_count": 8,
   "metadata": {
    "collapsed": true
   },
   "outputs": [],
   "source": [
    "pipe = Pipeline([('feature_engineering', feature_engineering),\n",
    "                 ('normalize', Normalizer()),\n",
    "                ('regressor', neigbors)\n",
    "                 ]\n",
    ")"
   ]
  },
  {
   "cell_type": "code",
   "execution_count": 9,
   "metadata": {},
   "outputs": [
    {
     "data": {
      "text/plain": [
       "Pipeline(memory=None,\n",
       "     steps=[('feature_engineering', Imputer(axis=0, copy=True, missing_values='NaN', strategy='median', verbose=0)), ('normalize', Normalizer(copy=True, norm='l2')), ('regressor', KNeighborsRegressor(algorithm='auto', leaf_size=30, metric='minkowski',\n",
       "          metric_params=None, n_jobs=-1, n_neighbors=5, p=2,\n",
       "          weights='distance'))])"
      ]
     },
     "execution_count": 9,
     "metadata": {},
     "output_type": "execute_result"
    }
   ],
   "source": [
    "# Fit model\n",
    "pipe.fit(x_train, y_train)"
   ]
  },
  {
   "cell_type": "code",
   "execution_count": 10,
   "metadata": {
    "collapsed": true
   },
   "outputs": [],
   "source": [
    "out_submission = pipe.predict(x_submission)"
   ]
  },
  {
   "cell_type": "code",
   "execution_count": 11,
   "metadata": {
    "scrolled": true
   },
   "outputs": [
    {
     "data": {
      "text/html": [
       "<div>\n",
       "<style>\n",
       "    .dataframe thead tr:only-child th {\n",
       "        text-align: right;\n",
       "    }\n",
       "\n",
       "    .dataframe thead th {\n",
       "        text-align: left;\n",
       "    }\n",
       "\n",
       "    .dataframe tbody tr th {\n",
       "        vertical-align: top;\n",
       "    }\n",
       "</style>\n",
       "<table border=\"1\" class=\"dataframe\">\n",
       "  <thead>\n",
       "    <tr style=\"text-align: right;\">\n",
       "      <th></th>\n",
       "      <th>ParcelId</th>\n",
       "      <th>201610</th>\n",
       "      <th>201611</th>\n",
       "      <th>201612</th>\n",
       "      <th>201710</th>\n",
       "      <th>201711</th>\n",
       "      <th>201712</th>\n",
       "    </tr>\n",
       "  </thead>\n",
       "  <tbody>\n",
       "    <tr>\n",
       "      <th>0</th>\n",
       "      <td>10754147</td>\n",
       "      <td>-0.016223</td>\n",
       "      <td>-0.016223</td>\n",
       "      <td>-0.016223</td>\n",
       "      <td>-0.016223</td>\n",
       "      <td>-0.016223</td>\n",
       "      <td>-0.016223</td>\n",
       "    </tr>\n",
       "    <tr>\n",
       "      <th>1</th>\n",
       "      <td>10759547</td>\n",
       "      <td>0.027647</td>\n",
       "      <td>0.027647</td>\n",
       "      <td>0.027647</td>\n",
       "      <td>0.027647</td>\n",
       "      <td>0.027647</td>\n",
       "      <td>0.027647</td>\n",
       "    </tr>\n",
       "    <tr>\n",
       "      <th>2</th>\n",
       "      <td>10843547</td>\n",
       "      <td>-0.013980</td>\n",
       "      <td>-0.013980</td>\n",
       "      <td>-0.013980</td>\n",
       "      <td>-0.013980</td>\n",
       "      <td>-0.013980</td>\n",
       "      <td>-0.013980</td>\n",
       "    </tr>\n",
       "    <tr>\n",
       "      <th>3</th>\n",
       "      <td>10859147</td>\n",
       "      <td>0.007505</td>\n",
       "      <td>0.007505</td>\n",
       "      <td>0.007505</td>\n",
       "      <td>0.007505</td>\n",
       "      <td>0.007505</td>\n",
       "      <td>0.007505</td>\n",
       "    </tr>\n",
       "    <tr>\n",
       "      <th>4</th>\n",
       "      <td>10879947</td>\n",
       "      <td>0.018970</td>\n",
       "      <td>0.018970</td>\n",
       "      <td>0.018970</td>\n",
       "      <td>0.018970</td>\n",
       "      <td>0.018970</td>\n",
       "      <td>0.018970</td>\n",
       "    </tr>\n",
       "  </tbody>\n",
       "</table>\n",
       "</div>"
      ],
      "text/plain": [
       "   ParcelId    201610    201611    201612    201710    201711    201712\n",
       "0  10754147 -0.016223 -0.016223 -0.016223 -0.016223 -0.016223 -0.016223\n",
       "1  10759547  0.027647  0.027647  0.027647  0.027647  0.027647  0.027647\n",
       "2  10843547 -0.013980 -0.013980 -0.013980 -0.013980 -0.013980 -0.013980\n",
       "3  10859147  0.007505  0.007505  0.007505  0.007505  0.007505  0.007505\n",
       "4  10879947  0.018970  0.018970  0.018970  0.018970  0.018970  0.018970"
      ]
     },
     "execution_count": 11,
     "metadata": {},
     "output_type": "execute_result"
    }
   ],
   "source": [
    "out_formatted = template_submission\n",
    "for col in out_formatted.columns.values:\n",
    "    if col == 'ParcelId':\n",
    "        pass\n",
    "    else:\n",
    "        out_formatted[col] = out_submission\n",
    "out_formatted.head()"
   ]
  },
  {
   "cell_type": "code",
   "execution_count": 37,
   "metadata": {
    "collapsed": true
   },
   "outputs": [],
   "source": [
    "out_formatted.to_csv('../data/submission_RMH.gz', index=False, compression = \"gzip\")"
   ]
  },
  {
   "cell_type": "code",
   "execution_count": 12,
   "metadata": {
    "collapsed": true
   },
   "outputs": [],
   "source": [
    "out_formatted.to_csv('../data/submission_RMH', index=False)"
   ]
  },
  {
   "cell_type": "code",
   "execution_count": null,
   "metadata": {
    "collapsed": true
   },
   "outputs": [],
   "source": []
  }
 ],
 "metadata": {
  "anaconda-cloud": {},
  "kernelspec": {
   "display_name": "Python [default]",
   "language": "python",
   "name": "python3"
  },
  "language_info": {
   "codemirror_mode": {
    "name": "ipython",
    "version": 3
   },
   "file_extension": ".py",
   "mimetype": "text/x-python",
   "name": "python",
   "nbconvert_exporter": "python",
   "pygments_lexer": "ipython3",
   "version": "3.6.0"
  }
 },
 "nbformat": 4,
 "nbformat_minor": 1
}
